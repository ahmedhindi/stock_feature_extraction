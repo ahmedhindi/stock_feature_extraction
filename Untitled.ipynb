{
 "cells": [
  {
   "cell_type": "code",
   "execution_count": 1,
   "metadata": {
    "collapsed": true
   },
   "outputs": [],
   "source": [
    "import pandas as pd\n",
    "import numpy as np\n",
    "%matplotlib inline"
   ]
  },
  {
   "cell_type": "code",
   "execution_count": null,
   "metadata": {
    "collapsed": true
   },
   "outputs": [],
   "source": [
    "# Doji\n",
    "(O = C)"
   ]
  },
  {
   "cell_type": "code",
   "execution_count": null,
   "metadata": {
    "collapsed": true
   },
   "outputs": [],
   "source": [
    "# Doji Yesterday\n",
    "(O1 = C1)"
   ]
  },
  {
   "cell_type": "code",
   "execution_count": null,
   "metadata": {
    "collapsed": true
   },
   "outputs": [],
   "source": [
    "# Doji and Near Doji\n",
    "(ABS(O - C ) <= ((H - L ) * 0.1))"
   ]
  },
  {
   "cell_type": "code",
   "execution_count": null,
   "metadata": {
    "collapsed": true
   },
   "outputs": [],
   "source": [
    "# Bullish Engulfing\n",
    "((O1 > C1) AND (C > O) AND (C >= O1) AND (C1 >= O) AND ((C - O) > (O1 - C1)))"
   ]
  },
  {
   "cell_type": "code",
   "execution_count": null,
   "metadata": {
    "collapsed": true
   },
   "outputs": [],
   "source": [
    "# Bearish Engulfing\n",
    "((C1 > O1) AND (O > C) AND (O >= C1) AND (O1 >= C) AND ((O - C) > (C1 - O1)))"
   ]
  },
  {
   "cell_type": "code",
   "execution_count": null,
   "metadata": {
    "collapsed": true
   },
   "outputs": [],
   "source": [
    "# Hammer\n",
    "(((H-L)>3*(O-C)AND((C-L)/(.001+H-L)>0.6)AND((O-L)/(.001+H-L)>0.6)))"
   ]
  },
  {
   "cell_type": "code",
   "execution_count": null,
   "metadata": {
    "collapsed": true
   },
   "outputs": [],
   "source": [
    "# Hanging Man\n",
    "(((H - L) > 4 * (O - C)) AND ((C - L) / (.001 + H - L) >= 0.75) AND ((O - L) / (.001 + H - L) >= .075)))"
   ]
  },
  {
   "cell_type": "code",
   "execution_count": null,
   "metadata": {
    "collapsed": true
   },
   "outputs": [],
   "source": [
    "# Piercing Line\n",
    "((C1 < O1) AND (((O1 + C1) / 2) < C) AND (O < C) AND (O < C1) AND (C < O1) AND ((C - O) / (.001 + (H - L)) > 0.6))"
   ]
  },
  {
   "cell_type": "code",
   "execution_count": null,
   "metadata": {
    "collapsed": true
   },
   "outputs": [],
   "source": [
    "# Dark Cloud\n",
    "((C1 > O1) AND (((C1 + O1) / 2) > C) AND (O > C) AND (O > C1) AND (C > O1) AND ((O - C) / (.001 + (H - L)) > .6))"
   ]
  },
  {
   "cell_type": "code",
   "execution_count": null,
   "metadata": {
    "collapsed": true
   },
   "outputs": [],
   "source": [
    "# Bullish Harami\n",
    "((O1 > C1) AND (C > O) AND (C <= O1) AND (C1 <= O) AND ((C - O) < (O1 - C1)))"
   ]
  },
  {
   "cell_type": "code",
   "execution_count": null,
   "metadata": {
    "collapsed": true
   },
   "outputs": [],
   "source": [
    "# Bearish Harami\n",
    "((C1 > O1) AND (O > C) AND (O <= C1) AND (O1 <= C) AND ((O - C) < (C1 - O1)))"
   ]
  },
  {
   "cell_type": "code",
   "execution_count": null,
   "metadata": {
    "collapsed": true
   },
   "outputs": [],
   "source": [
    "# Morning Star\n",
    "((O2>C2)AND((O2-C2)/(.001+H2-L2)>.6)AND(C2>O1)AND(O1>C1)AND((H1-L1)>(3*(C1-\n",
    "O1)))AND(C>O)AND(O>O1))"
   ]
  },
  {
   "cell_type": "code",
   "execution_count": null,
   "metadata": {
    "collapsed": true
   },
   "outputs": [],
   "source": [
    "# Evening Star\n",
    "((C2 > O2) AND ((C2 - O2) / (.001 + H2 - L2) > .6) AND (C2 < O1) AND (C1 > O1) AND ((H1 - L1) > (3 * (C1 - O1)))\n",
    "AND (O > C) AND (O < O1))"
   ]
  },
  {
   "cell_type": "code",
   "execution_count": null,
   "metadata": {
    "collapsed": true
   },
   "outputs": [],
   "source": [
    "# 1/10Bullish Kicker\n",
    "(O1 > C1) AND (O >= O1) AND (C > O)"
   ]
  },
  {
   "cell_type": "code",
   "execution_count": null,
   "metadata": {
    "collapsed": true
   },
   "outputs": [],
   "source": [
    "# Bearish Kicker\n",
    "(O1 < C1) AND (O <= O1) AND (C <= O)"
   ]
  },
  {
   "cell_type": "code",
   "execution_count": null,
   "metadata": {
    "collapsed": true
   },
   "outputs": [],
   "source": [
    "# Shooting Star\n",
    "(((H - L) > 4 * (O - C)) AND ((H - C) / (.001 + H - L) >= 0.75) AND ((H - O) / (.001 + H - L) >= 0.75)))"
   ]
  },
  {
   "cell_type": "code",
   "execution_count": null,
   "metadata": {
    "collapsed": true
   },
   "outputs": [],
   "source": [
    "# Inverted Hammer\n",
    "(((H - L) > 3 * (O - C)) AND ((H - C) / (.001 + H - L) > 0.6) AND ((H - O) / (.001 + H - L) > 0.6)))"
   ]
  }
 ],
 "metadata": {
  "kernelspec": {
   "display_name": "Python 3",
   "language": "python",
   "name": "python3"
  },
  "language_info": {
   "codemirror_mode": {
    "name": "ipython",
    "version": 3
   },
   "file_extension": ".py",
   "mimetype": "text/x-python",
   "name": "python",
   "nbconvert_exporter": "python",
   "pygments_lexer": "ipython3",
   "version": "3.6.1"
  }
 },
 "nbformat": 4,
 "nbformat_minor": 2
}
