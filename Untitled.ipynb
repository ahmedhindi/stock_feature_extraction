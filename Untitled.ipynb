{
 "cells": [
  {
   "cell_type": "code",
   "execution_count": 1,
   "metadata": {
    "collapsed": true
   },
   "outputs": [],
   "source": [
    "import pandas as pd\n",
    "import numpy as np\n",
    "%matplotlib inline"
   ]
  },
  {
   "cell_type": "code",
   "execution_count": null,
   "metadata": {
    "collapsed": true
   },
   "outputs": [],
   "source": [
    "# Doji\n",
    "(O = C)"
   ]
  },
  {
   "cell_type": "code",
   "execution_count": null,
   "metadata": {
    "collapsed": true
   },
   "outputs": [],
   "source": [
    "# Doji Yesterday\n",
    "(O1 = C1)"
   ]
  },
  {
   "cell_type": "code",
   "execution_count": null,
   "metadata": {
    "collapsed": true
   },
   "outputs": [],
   "source": [
    "# Doji and Near Doji\n",
    "(ABS(O - C ) <= ((H - L ) * 0.1))"
   ]
  },
  {
   "cell_type": "code",
   "execution_count": null,
   "metadata": {
    "collapsed": true
   },
   "outputs": [],
   "source": [
    "# Bullish Engulfing\n",
    "((O1 > C1) AND (C > O) AND (C >= O1) AND (C1 >= O) AND ((C - O) > (O1 - C1)))"
   ]
  },
  {
   "cell_type": "code",
   "execution_count": null,
   "metadata": {
    "collapsed": true
   },
   "outputs": [],
   "source": [
    "# Bearish Engulfing\n",
    "((C1 > O1) AND (O > C) AND (O >= C1) AND (O1 >= C) AND ((O - C) > (C1 - O1)))"
   ]
  },
  {
   "cell_type": "code",
   "execution_count": null,
   "metadata": {
    "collapsed": true
   },
   "outputs": [],
   "source": [
    "# Hammer\n",
    "(((H-L)>3*(O-C)AND((C-L)/(.001+H-L)>0.6)AND((O-L)/(.001+H-L)>0.6)))"
   ]
  },
  {
   "cell_type": "code",
   "execution_count": null,
   "metadata": {
    "collapsed": true
   },
   "outputs": [],
   "source": [
    "# Hanging Man\n",
    "(((H - L) > 4 * (O - C)) AND ((C - L) / (.001 + H - L) >= 0.75) AND ((O - L) / (.001 + H - L) >= .075)))"
   ]
  },
  {
   "cell_type": "code",
   "execution_count": null,
   "metadata": {
    "collapsed": true
   },
   "outputs": [],
   "source": [
    "# Piercing Line\n",
    "((C1 < O1) AND (((O1 + C1) / 2) < C) AND (O < C) AND (O < C1) AND (C < O1) AND ((C - O) / (.001 + (H - L)) > 0.6))"
   ]
  },
  {
   "cell_type": "code",
   "execution_count": null,
   "metadata": {
    "collapsed": true
   },
   "outputs": [],
   "source": [
    "# Dark Cloud\n",
    "((C1 > O1) AND (((C1 + O1) / 2) > C) AND (O > C) AND (O > C1) AND (C > O1) AND ((O - C) / (.001 + (H - L)) > .6))"
   ]
  },
  {
   "cell_type": "code",
   "execution_count": null,
   "metadata": {
    "collapsed": true
   },
   "outputs": [],
   "source": [
    "# Bullish Harami\n",
    "((O1 > C1) AND (C > O) AND (C <= O1) AND (C1 <= O) AND ((C - O) < (O1 - C1)))"
   ]
  },
  {
   "cell_type": "code",
   "execution_count": null,
   "metadata": {
    "collapsed": true
   },
   "outputs": [],
   "source": [
    "# Bearish Harami\n",
    "((C1 > O1) AND (O > C) AND (O <= C1) AND (O1 <= C) AND ((O - C) < (C1 - O1)))"
   ]
  },
  {
   "cell_type": "code",
   "execution_count": null,
   "metadata": {
    "collapsed": true
   },
   "outputs": [],
   "source": [
    "# Morning Star\n",
    "((O2>C2)AND((O2-C2)/(.001+H2-L2)>.6)AND(C2>O1)AND(O1>C1)AND((H1-L1)>(3*(C1-\n",
    "O1)))AND(C>O)AND(O>O1))"
   ]
  },
  {
   "cell_type": "code",
   "execution_count": null,
   "metadata": {
    "collapsed": true
   },
   "outputs": [],
   "source": [
    "# Evening Star\n",
    "((C2 > O2) AND ((C2 - O2) / (.001 + H2 - L2) > .6) AND (C2 < O1) AND (C1 > O1) AND ((H1 - L1) > (3 * (C1 - O1)))\n",
    "AND (O > C) AND (O < O1))"
   ]
  },
  {
   "cell_type": "code",
   "execution_count": null,
   "metadata": {
    "collapsed": true
   },
   "outputs": [],
   "source": [
    "# 1/10Bullish Kicker\n",
    "(O1 > C1) AND (O >= O1) AND (C > O)"
   ]
  },
  {
   "cell_type": "code",
   "execution_count": null,
   "metadata": {
    "collapsed": true
   },
   "outputs": [],
   "source": [
    "# Bearish Kicker\n",
    "(O1 < C1) AND (O <= O1) AND (C <= O)"
   ]
  },
  {
   "cell_type": "code",
   "execution_count": null,
   "metadata": {
    "collapsed": true
   },
   "outputs": [],
   "source": [
    "# Shooting Star\n",
    "(((H - L) > 4 * (O - C)) AND ((H - C) / (.001 + H - L) >= 0.75) AND ((H - O) / (.001 + H - L) >= 0.75)))"
   ]
  },
  {
   "cell_type": "code",
   "execution_count": null,
   "metadata": {
    "collapsed": true
   },
   "outputs": [],
   "source": [
    "# Inverted Hammer\n",
    "(((H - L) > 3 * (O - C)) AND ((H - C) / (.001 + H - L) > 0.6) AND ((H - O) / (.001 + H - L) > 0.6)))"
   ]
  },
  {
   "cell_type": "code",
   "execution_count": null,
   "metadata": {
    "collapsed": true
   },
   "outputs": [],
   "source": [
    "class CR:\n",
    "    def __init__(self, data):\n",
    "        self.data = data\n",
    "        \n",
    "    def doji(self):\n",
    "        \"\"\"Doji\n",
    "        (O = C)\"\"\"\n",
    "        (self.data['open'] ==  self.data['colse'])\n",
    "\n",
    "    def doji_yesterday(self):\n",
    "        \"\"\"Doji Yesterday\n",
    "        (O1 = C1)\"\"\"\n",
    "        (self.data['open'].shift(1) == self.data['close'].shift(1))\n",
    "\n",
    "    def doji_and_near_doji(self):\n",
    "        \"\"\"Doji and Near Doji\n",
    "        (ABS(O - C ) <= ((H - L ) * 0.1))\"\"\"\n",
    "        ((self.data['open'] - self.data['close']).abs()) <= ((self.data['high'] - self.data['low']) * 0.1))\n",
    "\n",
    "    def bullish_engulfing(self):\n",
    "        \"\"\" Bullish Engulfing\n",
    "        ((O1 > C1) AND (C > O) AND (C >= O1) AND (C1 >= O) AND ((C - O) > (O1 - C1)))\"\"\"\n",
    "        ((self.data['open'].shift(1) > self.data['close'].shift(1)) and \\\n",
    "        (self.data['close'] > self.data['open']) and \\\n",
    "        (self.data['close'] >= self.data['open'].shift(1)) and \\\n",
    "        (self.data['close'].shift(1) >= self.data['open']) and \\\n",
    "        ((self.data['close']-self.data['open']) > (self.data['open'].shift(1)-self.data['close'].shift(1))))\n",
    "\n",
    "    def bearish_engulfing(self):\n",
    "        \"\"\"Bearish Engulfing\n",
    "        ((C1 > O1) AND (O > C) AND (O >= C1) AND (O1 >= C) AND ((O - C) > (C1 - O1)))\"\"\"\n",
    "        ((self.data['close'].shift(1) > self.data['open'].shift(1)) and\\\n",
    "        (self.data['open'] > self.data['close']) and \\\n",
    "        (self.data['open'] >= self.data['close'].shift(1)) and \\\n",
    "        (self.data['open'].shift(1) >= self.data['close']) and \\\n",
    "        ((self.data['open']-self.data['close']) > (self.data['close'].shift(1)-self.data['open'].shift(1))))\n",
    "\n",
    "    def hammer(self):\n",
    "        \"\"\"Hammer\n",
    "        (((H-L)>3*(O-C)AND((C-L)/(.001+H-L)>0.6)AND((O-L)/(.001+H-L)>0.6)))\"\"\"\n",
    "        (((self.data['high'] - self.data['low']) > ((self.data['open']-self.data['close'])*3)) and \\\n",
    "        ((self.data['close']-self.data['low']) / ((.001+self.data['high']-self.data['low']) > 0.6)) and \\\n",
    "        ((self.data['open'] - self.data['low']) / (.001+self.data['high']-self.data['low']) > 0.6))\n",
    "\n",
    "    def hanging_man(self):\n",
    "        \"\"\" Hanging Man\n",
    "        (((H - L) > 4 * (O - C)) AND ((C - L) /\n",
    "        (.001 + H - L) >= 0.75) AND ((O - L) / (.001 + H - L) >= .075)))\"\"\"\n",
    "        (((self.data['high'] - self.data['low']) > ((self.data['open'] - self.data['close'])*4)) and \\\n",
    "        ((self.data['close'] - self.data['low']) / ((.001 + self.data['high'] - self.data['low']) >= 0.75)) and\\\n",
    "        ((self.data['open'] - self.data['low']) / ((.001 + self.data['high'] - self.data['low']) >= .075)))\n",
    "\n",
    "\n",
    "    def pricing_line(self):\n",
    "        \"\"\"Piercing Line\n",
    "        ((C1 < O1) AND (((O1 + C1) / 2) < C) AND (O < C) AND\n",
    "        (O < C1) AND (C < O1) AND ((C - O) / (.001 + (H - L)) > 0.6))\"\"\"\n",
    "        (((self.data['close'].shift(1)) < (self.data['open'].shift(1))) and \\\n",
    "        (((self.data['open'].shift(1) + self.data['close'].shift(1)) / 2) < (self.data['close'])) and \\\n",
    "        ((self.data['open'] < self.data['close']) and (self.data['open'] < self.data['close'].shift(1))) and \\\n",
    "        (self.data['close'] < self.data['open'].shift(1)) and \\\n",
    "        ((self.data['close'] - self.data['open']) / (0.001 + (self.data['high'] - self.data['low'])) > 0.6))\n",
    "\n",
    "    def dark_cloud(self):\n",
    "        \"\"\"Dark Cloud\n",
    "        ((C1 > O1) AND (((C1 + O1) / 2) > C) AND (O > C) AND (O > C1) AND (C > O1)\n",
    "        AND ((O - C) / (.001 + (H - L)) > .6))\"\"\"\n",
    "        ((self.data['close'].shift(1) > self.data['open'].shift(1)) and \\\n",
    "        (((self.data['close'].shift(1) + self.data['open'].shift(1)) / 2) > self.data['close']) and \\\n",
    "        (self.data['open'] > self.data['close']) and (self.data['open'] > self.data['close'].shift(1)) and\\\n",
    "        (self.data['close'] > self.data['open'].shift(1)) and \\\n",
    "        ((self.data['open'] - self.data['close']) / (.001 + (H - L)) > .6))\n",
    "\n",
    "    def bullish_harami(self):\n",
    "        \"\"\"Bullish Harami\n",
    "        ((O1 > C1) AND (C > O) AND (C <= O1) AND (C1 <= O)\n",
    "        AND ((C - O) < (O1 - C1)))\"\"\"\n",
    "        ((self.data['open'].shift(1) > self.data['close'].shift(1)) and \\\n",
    "        (self.data['close'] > self.data['open']) and (self.data['close'] <= self.data['open'].shift(1)) and\\\n",
    "        (self.data['close'].shift(1) <= self.data['open']) and \\\n",
    "        ((self.data['close'] - self.data['open']) < (self.data['open'].shift(1) - self.data['close'].shift(1))))\n",
    "\n",
    "    def bearish_harami(self):\n",
    "        \"\"\"Bearish Harami\n",
    "        ((C1 > O1) AND (O > C) AND (O <= C1) AND (O1 <= C) AND ((O - C) < (C1 - O1)))\"\"\"\n",
    "        ((self.data['clsoe'].shift(1) > self.data['open'].shift(1)) and \\\n",
    "        (self.data['open'] > self.data['clsoe']) and \\\n",
    "        (self.data['open'] <= self.data['clsoe'].shift(1)) and\\\n",
    "        (self.data['open'].shift(1) <= self.data['clsoe']) and \\\n",
    "        ((self.data['open'] - self.data['clsoe']) < (self.data['clsoe'].shift(1) - self.data['open'].shift(1))))\n",
    "\n",
    "    def morning_star(self):\n",
    "        \"\"\"Morning Star\n",
    "        ((O2>C2)AND((O2-C2)/(.001+H2-L2)>.6)AND(C2>O1)AND(O1>C1)AND((H1-L1)>(3*(C1-\n",
    "        O1)))AND(C>O)AND(O>O1))\"\"\"\n",
    "        ((self.data['open'].shift(2) > self.data['close'].shift(2)) and \\\n",
    "        ((self.data['open'].shift(2) - self.data['close'].shift(2))/\\\n",
    "        (0.001+self.data['high'].shift(2)-self.data['low'].shift(2))>.6) and\\\n",
    "        (self.data['close'].shift(2) > self.data['open'].shift(1)) and \\\n",
    "        (self.data['open'].shift(1)>self.data['close'].shift(1)) and \\\n",
    "        ((self.data['high'].shift(1)-self.data['low'].shift(1))>(3*(C1-O1)))and\\\n",
    "        (self.data['close']>self.data['open'])and\\\n",
    "        (self.data['open']>self.data['open'].shift(1)))\n",
    "\n",
    "    def evening_star(self):\n",
    "        \"\"\"Evening Star\n",
    "        ((C2 > O2) AND ((C2 - O2) / (.001 + H2 - L2) > .6) AND\n",
    "        (C2 < O1) AND (C1 > O1) AND ((H1 - L1) > (3 * (C1 - O1)))\n",
    "        AND (O > C) AND (O < O1))\"\"\"\n",
    "        ((self.data['close'].shift(2) > self.data['open'].shift(2)) and\n",
    "        ((self.data['close'].shift(2) - self.data['open'].shift(2)) / (.001 + self.data['high'].shift(2) - self.data['low'].shift(2)) > .6) and \\\n",
    "        (self.data['close'].shift(2) < self.data['open'].shift(1)) and \\\n",
    "        (self.data['close'].shift(1) > self.data['open'].shift(1)) and\n",
    "        ((self.data['high'].shift(1) - self.data['low'].shift(1)) > (3 * (self.data['close'].shift(1) - self.data['open'].shift(1)))) and\\\n",
    "        (self.data['open'] > self.data['close']) and\n",
    "        (self.data['open'] < self.data['open'].shift(1)))\n",
    "\n",
    "    def bullish_kicker(self):\n",
    "        \"\"\"1/10Bullish Kicker\n",
    "        (O1 > C1) AND (O >= O1) AND (C > O)\"\"\"\n",
    "        (self.data['open'].shift(1) > self.data['close'].shift(1)) and\\\n",
    "        (self.data['open'] >= self.data['open'].shift(1)) and \\\n",
    "        (self.data['close'] > self.data['open'])\n",
    "\n",
    "    def bearish_kicker(self):\n",
    "        \"\"\"Bearish Kicker\n",
    "        (O1 < C1) AND (O <= O1) AND (C <= O)\"\"\"\n",
    "        (self.data['open'].shift(1) < self.data['close'].shift(1)) and \\\n",
    "        (self.data['open'] <= self.data['open'].shift(1)) and \\\n",
    "        (self.data['close'] <= self.data['open'])\n",
    "\n",
    "    def shooting_star(self):\n",
    "        \"\"\"Shooting Star\n",
    "        (((H - L) > 4 * (O - C)) AND ((H - C) / (.001 + H - L) >= 0.75)\n",
    "        AND ((H - O) / (.001 + H - L) >= 0.75)))\"\"\"\n",
    "        (((self.data['high'] - self.data['low']) > ((self.data['open'] - self.data['close'])*4)) and \\\n",
    "        ((self.data['high'].shift(2) - self.data['close']) / ((.001 + self.data['high'] - self.data['low']) >= 0.75)) and \\\n",
    "        ((self.data['high'] - self.data['open']) / ((.001 + self.data['high'] - self.data['low']) >= 0.75)))\n",
    "\n",
    "    def inverted_hammer(self):\n",
    "        \"\"\"Inverted Hammer\n",
    "        (((H - L) > 3 * (O - C)) AND ((H - C) / (.001 + H - L) > 0.6)\n",
    "        AND ((H - O) / (.001 + H - L) > 0.6)))\"\"\"\n",
    "        (((self.data['high'] - self.data['low']) > ((self.data['open'] - self.data['close'])*3)) and \\\n",
    "        ((self.data['high'] - self.data['close']) / ((.001 + self.data['high'] - self.data['low']) > 0.6)) and \\\n",
    "        ((self.data['high'] - self.data['open']) / ((.001 + self.data['high'] - self.data['low']) > 0.6)))\n"
   ]
  }
 ],
 "metadata": {
  "kernelspec": {
   "display_name": "Python 3",
   "language": "python",
   "name": "python3"
  },
  "language_info": {
   "codemirror_mode": {
    "name": "ipython",
    "version": 3
   },
   "file_extension": ".py",
   "mimetype": "text/x-python",
   "name": "python",
   "nbconvert_exporter": "python",
   "pygments_lexer": "ipython3",
   "version": "3.6.1"
  }
 },
 "nbformat": 4,
 "nbformat_minor": 2
}
